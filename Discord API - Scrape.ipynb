{
 "cells": [
  {
   "cell_type": "code",
   "execution_count": 5,
   "id": "32fd54c5",
   "metadata": {},
   "outputs": [],
   "source": [
    "import requests\n",
    "import json"
   ]
  },
  {
   "cell_type": "code",
   "execution_count": 6,
   "id": "d4622b8d",
   "metadata": {},
   "outputs": [],
   "source": [
    "def retrieve_messages(channel_id):\n",
    "    headers = {\n",
    "        \"authorization\": \"MTAwOTkwNjQ1MjI1MDUwNTI4Ng.GGs17y.t92hagmcXXI18x7otqRtu362B4cmom7I6RJMEs\"\n",
    "    }\n",
    "    r = requests.get(f'https://canary.discord.com/api/v9/channels/{channel_id}/messages', headers = headers)\n",
    "    jsonn = json.loads(r.text)\n",
    "    for value in jsonn:\n",
    "        print(value['content'], '\\n')\n",
    "\n",
    "retrieve_messages('1011277380624588945')"
   ]
  },
  {
   "cell_type": "code",
   "execution_count": null,
   "id": "6e29a351",
   "metadata": {},
   "outputs": [],
   "source": []
  }
 ],
 "metadata": {
  "kernelspec": {
   "display_name": "Python 3 (ipykernel)",
   "language": "python",
   "name": "python3"
  },
  "language_info": {
   "codemirror_mode": {
    "name": "ipython",
    "version": 3
   },
   "file_extension": ".py",
   "mimetype": "text/x-python",
   "name": "python",
   "nbconvert_exporter": "python",
   "pygments_lexer": "ipython3",
   "version": "3.9.7"
  }
 },
 "nbformat": 4,
 "nbformat_minor": 5
}
