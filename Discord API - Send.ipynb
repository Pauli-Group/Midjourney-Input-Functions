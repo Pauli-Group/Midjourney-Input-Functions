{
 "cells": [
  {
   "cell_type": "code",
   "execution_count": 2,
   "id": "93dfbfff",
   "metadata": {},
   "outputs": [],
   "source": [
    "import requests\n",
    "\n",
    "# Request payload; \"Content\". Let 'x' be the string you want printed.\n",
    "payload = {\n",
    "    \"content\": x  \n",
    "}\n",
    "\n",
    "# Request headers; \"Authorization\". \n",
    "header = {\n",
    "    \"authorization\": \"MTAwOTkwNjQ1MjI1MDUwNTI4Ng.GGs17y.t92hagmcXXI18x7otqRtu362B4cmom7I6RJMEs\"\n",
    "}\n",
    "\n",
    "# Request URL of channel. \n",
    "r = requests.post(\"https://canary.discord.com/api/v9/channels/1011277380624588945/messages\", data = payload, headers = header)"
   ]
  },
  {
   "cell_type": "code",
   "execution_count": null,
   "id": "711a4c9d",
   "metadata": {},
   "outputs": [],
   "source": []
  }
 ],
 "metadata": {
  "kernelspec": {
   "display_name": "Python 3 (ipykernel)",
   "language": "python",
   "name": "python3"
  },
  "language_info": {
   "codemirror_mode": {
    "name": "ipython",
    "version": 3
   },
   "file_extension": ".py",
   "mimetype": "text/x-python",
   "name": "python",
   "nbconvert_exporter": "python",
   "pygments_lexer": "ipython3",
   "version": "3.9.7"
  }
 },
 "nbformat": 4,
 "nbformat_minor": 5
}
